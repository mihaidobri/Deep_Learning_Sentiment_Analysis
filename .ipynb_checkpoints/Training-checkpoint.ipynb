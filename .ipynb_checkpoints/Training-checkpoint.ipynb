{
 "cells": [
  {
   "cell_type": "markdown",
   "metadata": {},
   "source": [
    "# LOAD DATA! TRAIN MODEL!"
   ]
  },
  {
   "cell_type": "code",
   "execution_count": 1,
   "metadata": {},
   "outputs": [],
   "source": [
    "import numpy as np\n",
    "import pandas as pd\n",
    "import torch\n",
    "\n",
    "from functools import reduce\n",
    "from gensim.models import KeyedVectors\n",
    "from nltk.tokenize import RegexpTokenizer\n",
    "from torch import functional as F\n",
    "from torch import nn\n",
    "from torch import optim\n",
    "from torch.utils.data import DataLoader, Dataset\n",
    "from tqdm import tqdm_notebook as tqdm"
   ]
  },
  {
   "cell_type": "code",
   "execution_count": 2,
   "metadata": {},
   "outputs": [
    {
     "data": {
      "text/html": [
       "<div>\n",
       "<style scoped>\n",
       "    .dataframe tbody tr th:only-of-type {\n",
       "        vertical-align: middle;\n",
       "    }\n",
       "\n",
       "    .dataframe tbody tr th {\n",
       "        vertical-align: top;\n",
       "    }\n",
       "\n",
       "    .dataframe thead th {\n",
       "        text-align: right;\n",
       "    }\n",
       "</style>\n",
       "<table border=\"1\" class=\"dataframe\">\n",
       "  <thead>\n",
       "    <tr style=\"text-align: right;\">\n",
       "      <th></th>\n",
       "      <th>0</th>\n",
       "      <th>1</th>\n",
       "    </tr>\n",
       "  </thead>\n",
       "  <tbody>\n",
       "    <tr>\n",
       "      <th>0</th>\n",
       "      <td>\"MirrorMask\" was a terribly disappointing film...</td>\n",
       "      <td>0</td>\n",
       "    </tr>\n",
       "    <tr>\n",
       "      <th>1</th>\n",
       "      <td>I suppose you could say this film has a grain ...</td>\n",
       "      <td>0</td>\n",
       "    </tr>\n",
       "    <tr>\n",
       "      <th>2</th>\n",
       "      <td>I think that this was one of the most trite fi...</td>\n",
       "      <td>0</td>\n",
       "    </tr>\n",
       "    <tr>\n",
       "      <th>3</th>\n",
       "      <td>This movie is terrible, it was so difficult to...</td>\n",
       "      <td>0</td>\n",
       "    </tr>\n",
       "    <tr>\n",
       "      <th>4</th>\n",
       "      <td>Classic author C.S. Lewis once wrote an essay ...</td>\n",
       "      <td>0</td>\n",
       "    </tr>\n",
       "    <tr>\n",
       "      <th>...</th>\n",
       "      <td>...</td>\n",
       "      <td>...</td>\n",
       "    </tr>\n",
       "    <tr>\n",
       "      <th>7495</th>\n",
       "      <td>Dogtown and Z-Boys&lt;br /&gt;&lt;br /&gt;Summary: Dogtown...</td>\n",
       "      <td>1</td>\n",
       "    </tr>\n",
       "    <tr>\n",
       "      <th>7496</th>\n",
       "      <td>Possibly the best John Travolta role ever. Sat...</td>\n",
       "      <td>1</td>\n",
       "    </tr>\n",
       "    <tr>\n",
       "      <th>7497</th>\n",
       "      <td>The only way to truly understand and relate to...</td>\n",
       "      <td>1</td>\n",
       "    </tr>\n",
       "    <tr>\n",
       "      <th>7498</th>\n",
       "      <td>I saw this at the San Francisco Independent Fi...</td>\n",
       "      <td>1</td>\n",
       "    </tr>\n",
       "    <tr>\n",
       "      <th>7499</th>\n",
       "      <td>This was truly a tense and dark episode. Excel...</td>\n",
       "      <td>1</td>\n",
       "    </tr>\n",
       "  </tbody>\n",
       "</table>\n",
       "<p>7500 rows × 2 columns</p>\n",
       "</div>"
      ],
      "text/plain": [
       "                                                      0  1\n",
       "0     \"MirrorMask\" was a terribly disappointing film...  0\n",
       "1     I suppose you could say this film has a grain ...  0\n",
       "2     I think that this was one of the most trite fi...  0\n",
       "3     This movie is terrible, it was so difficult to...  0\n",
       "4     Classic author C.S. Lewis once wrote an essay ...  0\n",
       "...                                                 ... ..\n",
       "7495  Dogtown and Z-Boys<br /><br />Summary: Dogtown...  1\n",
       "7496  Possibly the best John Travolta role ever. Sat...  1\n",
       "7497  The only way to truly understand and relate to...  1\n",
       "7498  I saw this at the San Francisco Independent Fi...  1\n",
       "7499  This was truly a tense and dark episode. Excel...  1\n",
       "\n",
       "[7500 rows x 2 columns]"
      ]
     },
     "execution_count": 2,
     "metadata": {},
     "output_type": "execute_result"
    }
   ],
   "source": [
    "raw_train_data = pd.read_csv('data/imdb_reviews/train.csv', header=None)\n",
    "raw_val_data = pd.read_csv('data/imdb_reviews/val.csv', header=None)\n",
    "raw_test_data = pd.read_csv('data/imdb_reviews/test.csv', header=None)\n",
    "raw_val_data"
   ]
  },
  {
   "cell_type": "code",
   "execution_count": 3,
   "metadata": {},
   "outputs": [],
   "source": [
    "def strip_whitespace(df: pd.DataFrame):\n",
    "    stripped_df = df.apply(lambda x : x.str.strip() if x.dtype == 'object' else x)\n",
    "    return stripped_df"
   ]
  },
  {
   "cell_type": "code",
   "execution_count": 4,
   "metadata": {},
   "outputs": [],
   "source": [
    "raw_train_data = strip_whitespace(raw_train_data)\n",
    "raw_val_data = strip_whitespace(raw_val_data)\n",
    "raw_test_data = strip_whitespace(raw_test_data)"
   ]
  },
  {
   "cell_type": "code",
   "execution_count": 5,
   "metadata": {},
   "outputs": [],
   "source": [
    "embedding_file_path = 'data/pretrained_models/GoogleNews-vectors-negative300.bin'\n",
    "word2vec = KeyedVectors.\\\n",
    "            load_word2vec_format(embedding_file_path, binary=True)\n",
    "word2vec['<UNK>'] = np.zeros(300)\n",
    "word2vec['<PAD>'] = np.zeros(300)"
   ]
  },
  {
   "cell_type": "code",
   "execution_count": 6,
   "metadata": {},
   "outputs": [],
   "source": [
    "word_to_int = {}\n",
    "int_to_word = {}\n",
    "for i, x in enumerate(word2vec.vocab):\n",
    "    word_to_int[x] = i\n",
    "    int_to_word[i] = x"
   ]
  },
  {
   "cell_type": "code",
   "execution_count": 7,
   "metadata": {},
   "outputs": [],
   "source": [
    "def map_word_to_int(s: str):\n",
    "    if s in word_to_int:\n",
    "        return word_to_int[s]\n",
    "    else:\n",
    "        return word_to_int['<UNK>']\n",
    "\n",
    "def map_int_to_word(n: int):\n",
    "    if n in int_to_word:\n",
    "        return int_to_word[n]\n",
    "    else:\n",
    "        return int_to_word[len(int_to_word) - 2]\n",
    "    \n",
    "def str_to_int_array(s: str):\n",
    "    tokenizer = RegexpTokenizer(r'\\w+')\n",
    "    return np.array([map_word_to_int(x) for x in tokenizer.tokenize(s)])\n",
    "\n",
    "def int_array_to_str(a: np.array):\n",
    "    return reduce(lambda x, y : '{} {}'.format(x, map_int_to_word(y)), a, '')"
   ]
  },
  {
   "cell_type": "code",
   "execution_count": 8,
   "metadata": {},
   "outputs": [],
   "source": [
    "class MovieDataset(Dataset):\n",
    "    \n",
    "    def __init__(self, features: list, targets: list):\n",
    "        super(MovieDataset, self).__init__()\n",
    "        \n",
    "        self.features = features\n",
    "        self.targets = targets\n",
    "        \n",
    "    def __getitem__(self, idx):\n",
    "        return torch.tensor(self.features[idx]), torch.tensor(self.targets[idx], \n",
    "                                                              dtype=torch.float32)\n",
    "    \n",
    "    def __len__(self):\n",
    "        return len(self.targets)"
   ]
  },
  {
   "cell_type": "code",
   "execution_count": 9,
   "metadata": {},
   "outputs": [],
   "source": [
    "def refine_raw_data(df: pd.DataFrame):\n",
    "    \n",
    "    features = [str_to_int_array(x) for x in df.iloc[:, 0]]\n",
    "    targets = df.iloc[:, 1].to_numpy().tolist()\n",
    "    \n",
    "    return features, targets\n",
    "\n",
    "def generate_dataset(df: pd.DataFrame):\n",
    "    features, targets = refine_raw_data(df)\n",
    "    \n",
    "    return MovieDataset(features, targets)"
   ]
  },
  {
   "cell_type": "code",
   "execution_count": 10,
   "metadata": {},
   "outputs": [],
   "source": [
    "train_dataset = generate_dataset(raw_train_data)\n",
    "val_dataset = generate_dataset(raw_val_data)\n",
    "test_dataset = generate_dataset(raw_test_data)"
   ]
  },
  {
   "cell_type": "code",
   "execution_count": 11,
   "metadata": {},
   "outputs": [],
   "source": [
    "train_loader = DataLoader(train_dataset, batch_size=1, shuffle=True, num_workers=8)\n",
    "val_loader = DataLoader(val_dataset, batch_size=1, num_workers=8)\n",
    "test_loader = DataLoader(test_dataset, batch_size=1, num_workers=8)"
   ]
  },
  {
   "cell_type": "code",
   "execution_count": 22,
   "metadata": {},
   "outputs": [],
   "source": [
    "class SentimentAnalysisCNN(nn.Module):\n",
    "    \n",
    "    def __init__(self):\n",
    "        super(SentimentAnalysisCNN, self).__init__()\n",
    "        \n",
    "        ### Hyperparameters ###\n",
    "        self.filter_sizes = [2, 3, 5]\n",
    "        self.num_filters = 32\n",
    "        #######################\n",
    "        \n",
    "        # Embed the input\n",
    "        self.embedding = nn.Embedding.from_pretrained(torch.FloatTensor(word2vec.vectors))\n",
    "        \n",
    "        # Time to convoulte!\n",
    "        self.convs = nn.ModuleList([nn.Conv2d(1, \n",
    "                                              self.num_filters, \n",
    "                                              kernel_size=(h, 300))\n",
    "                                    for h in self.filter_sizes])\n",
    "        \n",
    "        # Feed forward\n",
    "        fc_input = self.num_filters * len(self.filter_sizes)\n",
    "        self.fc_layers = nn.Sequential(\n",
    "                                        nn.Linear(fc_input, 512),\n",
    "                                        nn.ReLU(),\n",
    "                                        nn.Dropout(0.3),\n",
    "                                        nn.Linear(512, 1),\n",
    "                                        nn.Sigmoid()\n",
    "                                       )\n",
    "    \n",
    "    def forward(self, x):\n",
    "        x = self.embedding(x)\n",
    "        x = x.unsqueeze(1)\n",
    "        conv_outputs = [self.convolute_and_pool(x, c) for c in self.convs]\n",
    "        x = torch.cat(conv_outputs, 1)\n",
    "        x = self.fc_layers(x)\n",
    "        return x\n",
    "    \n",
    "    def convolute_and_pool(self, x, conv):\n",
    "        x = torch.relu(conv(x))\n",
    "        x = x.squeeze(3)\n",
    "        return torch.max_pool1d(x, x.size(2)).squeeze(2)"
   ]
  },
  {
   "cell_type": "code",
   "execution_count": 29,
   "metadata": {},
   "outputs": [],
   "source": [
    "def evaluate_model_metrics(model, validation=False):\n",
    "    \n",
    "    gpu_is_available = False\n",
    "    if torch.cuda.is_available():\n",
    "        model = model.cuda()\n",
    "        gpu_is_available = True\n",
    "    \n",
    "    if validation:\n",
    "        eval_loader = val_loader\n",
    "    else:\n",
    "        eval_loader = test_loader\n",
    "    \n",
    "    true_positives = 0\n",
    "    true_negatives = 0\n",
    "    false_positives = 0\n",
    "    false_negatives = 0\n",
    "    \n",
    "    for data, targets in eval_loader:\n",
    "        if gpu_is_available:\n",
    "            data, targets = data.cuda(), targets.cuda()\n",
    "        predictions = model.forward(data)\n",
    "        predictions = torch.round(predictions)\n",
    "        for (p, t) in zip(predictions, targets.reshape(-1, 1)):\n",
    "            if p == t:\n",
    "                if t == 1:\n",
    "                    true_positives += 1\n",
    "                else:\n",
    "                    true_negatives += 1\n",
    "            else:\n",
    "                if t == 1:\n",
    "                    false_positives += 1\n",
    "                else:\n",
    "                    false_negatives += 1\n",
    "    accuracy = (true_positives + true_negatives) / (true_positives\n",
    "                                                    + true_negatives\n",
    "                                                    + false_positives\n",
    "                                                    + false_negatives)\n",
    "    precision = true_positives / (true_positives + false_positives)\n",
    "    recall = true_positives / (true_positives + false_negatives)\n",
    "    f1 = 2 * ((precision * recall) / (precision + recall))\n",
    "    \n",
    "    return (accuracy, precision, recall, f1)\n",
    "\n",
    "def evaluate_model(model, validation=False):\n",
    "    \n",
    "    gpu_is_available = False\n",
    "    if torch.cuda.is_available():\n",
    "        model = model.cuda()\n",
    "        gpu_is_available = True\n",
    "    \n",
    "    if validation:\n",
    "        eval_loader = val_loader\n",
    "    else:\n",
    "        eval_loader = test_loader\n",
    "    # Evaluation\n",
    "    model.eval()\n",
    "    accuracy = 0.\n",
    "    num_correct = 0\n",
    "    for features, targets in eval_loader:\n",
    "        if gpu_is_available:\n",
    "            features, targets = features.cuda(), targets.cuda()\n",
    "\n",
    "        output = model.forward(features)\n",
    "        if round(output.item()) == targets:\n",
    "            num_correct += 1\n",
    "    accuracy = (num_correct / len(val_loader.dataset)) * 100.0\n",
    "    return accuracy\n",
    "\n",
    "def train_model(model, epochs=5, lr=1e-4):\n",
    "    \n",
    "    gpu_is_available = False\n",
    "    if torch.cuda.is_available():\n",
    "        model = model.cuda()\n",
    "        gpu_is_available = True\n",
    "    \n",
    "    criterion = nn.BCELoss()\n",
    "    optimizer = optim.Adam(model.parameters(), lr=lr)\n",
    "    \n",
    "    for e in range(1, epochs+1):\n",
    "        \n",
    "        model.train()\n",
    "        running_loss = 0.\n",
    "        for features, targets in tqdm(train_loader):\n",
    "            \n",
    "            if gpu_is_available:\n",
    "                features, targets = features.cuda(), targets.cuda()\n",
    "            \n",
    "            optimizer.zero_grad()\n",
    "            output = model.forward(features)\n",
    "            loss = criterion(output.squeeze(), targets)\n",
    "            loss.backward()\n",
    "            optimizer.step()\n",
    "            \n",
    "            running_loss += loss.item()\n",
    "        accuracy = evaluate_model(model)\n",
    "        \n",
    "       \n",
    "        \n",
    "        print('Epoch: {}\\t Train Loss: {:.2f}\\tValidation Accuracy: {:.2f}%'\\\n",
    "              .format(e,\n",
    "                      running_loss,\n",
    "                      accuracy))"
   ]
  },
  {
   "cell_type": "code",
   "execution_count": 24,
   "metadata": {},
   "outputs": [
    {
     "data": {
      "application/vnd.jupyter.widget-view+json": {
       "model_id": "7b71fedb7d8e41849a116de308333a97",
       "version_major": 2,
       "version_minor": 0
      },
      "text/plain": [
       "HBox(children=(IntProgress(value=0, max=35000), HTML(value='')))"
      ]
     },
     "metadata": {},
     "output_type": "display_data"
    },
    {
     "name": "stdout",
     "output_type": "stream",
     "text": [
      "\n",
      "Epoch: 1\t Train Loss: 11680.64\tValidation Accuracy: 88.49%\n"
     ]
    },
    {
     "data": {
      "application/vnd.jupyter.widget-view+json": {
       "model_id": "996f1ac9f60143029f1e9a8c17251a77",
       "version_major": 2,
       "version_minor": 0
      },
      "text/plain": [
       "HBox(children=(IntProgress(value=0, max=35000), HTML(value='')))"
      ]
     },
     "metadata": {},
     "output_type": "display_data"
    },
    {
     "name": "stdout",
     "output_type": "stream",
     "text": [
      "\n",
      "Epoch: 2\t Train Loss: 7458.83\tValidation Accuracy: 88.04%\n"
     ]
    },
    {
     "data": {
      "application/vnd.jupyter.widget-view+json": {
       "model_id": "25922053c46941e99d51901ac5d0f04f",
       "version_major": 2,
       "version_minor": 0
      },
      "text/plain": [
       "HBox(children=(IntProgress(value=0, max=35000), HTML(value='')))"
      ]
     },
     "metadata": {},
     "output_type": "display_data"
    },
    {
     "name": "stdout",
     "output_type": "stream",
     "text": [
      "\n",
      "Epoch: 3\t Train Loss: 4867.90\tValidation Accuracy: 89.45%\n"
     ]
    },
    {
     "data": {
      "application/vnd.jupyter.widget-view+json": {
       "model_id": "f4eeba288ef64caeb5a181c7919b6a9b",
       "version_major": 2,
       "version_minor": 0
      },
      "text/plain": [
       "HBox(children=(IntProgress(value=0, max=35000), HTML(value='')))"
      ]
     },
     "metadata": {},
     "output_type": "display_data"
    },
    {
     "name": "stdout",
     "output_type": "stream",
     "text": [
      "\n",
      "Epoch: 4\t Train Loss: 2788.15\tValidation Accuracy: 89.00%\n"
     ]
    },
    {
     "data": {
      "application/vnd.jupyter.widget-view+json": {
       "model_id": "5ed92bdd3fea45b7bd8d5b8d94347806",
       "version_major": 2,
       "version_minor": 0
      },
      "text/plain": [
       "HBox(children=(IntProgress(value=0, max=35000), HTML(value='')))"
      ]
     },
     "metadata": {},
     "output_type": "display_data"
    },
    {
     "name": "stdout",
     "output_type": "stream",
     "text": [
      "\n",
      "Epoch: 5\t Train Loss: 1775.74\tValidation Accuracy: 88.85%\n"
     ]
    }
   ],
   "source": [
    "model = SentimentAnalysisCNN()\n",
    "train_model(model, epochs=5, lr=1e-4)"
   ]
  },
  {
   "cell_type": "code",
   "execution_count": 25,
   "metadata": {},
   "outputs": [
    {
     "name": "stdout",
     "output_type": "stream",
     "text": [
      "88.85333333333332\n"
     ]
    }
   ],
   "source": [
    "print(evaluate_model(model))"
   ]
  },
  {
   "cell_type": "code",
   "execution_count": 32,
   "metadata": {},
   "outputs": [
    {
     "name": "stdout",
     "output_type": "stream",
     "text": [
      "Accuracy: 0.8885\n",
      "Precision: 0.8997\n",
      "Recall: 0.8800\n",
      "F1 Score: 0.8898\n"
     ]
    }
   ],
   "source": [
    "metrics = evaluate_model_metrics(model)\n",
    "print('Accuracy: {:.4f}\\nPrecision: {:.4f}\\nRecall: {:.4f}\\nF1 Score: {:.4f}'\\\n",
    "     .format(*metrics))"
   ]
  },
  {
   "cell_type": "code",
   "execution_count": null,
   "metadata": {},
   "outputs": [],
   "source": []
  }
 ],
 "metadata": {
  "kernelspec": {
   "display_name": "Python 3",
   "language": "python",
   "name": "python3"
  },
  "language_info": {
   "codemirror_mode": {
    "name": "ipython",
    "version": 3
   },
   "file_extension": ".py",
   "mimetype": "text/x-python",
   "name": "python",
   "nbconvert_exporter": "python",
   "pygments_lexer": "ipython3",
   "version": "3.7.5"
  }
 },
 "nbformat": 4,
 "nbformat_minor": 2
}
